{
 "cells": [
  {
   "cell_type": "markdown",
   "metadata": {},
   "source": [
    "<h1> First homework assignment</h1>\n",
    "<h2>Statistical data analysis course - University of Warsaw</h2>"
   ]
  },
  {
   "cell_type": "markdown",
   "metadata": {},
   "source": [
    "#### Joanna Kęczkowska"
   ]
  },
  {
   "cell_type": "markdown",
   "metadata": {},
   "source": [
    "Data set laptops.csv contains:\n",
    "- inches\n",
    "- weight\n",
    "- price_euros\n",
    "- company – (1 – Acer, 2 – Asus, 3 – Dell, 4 – HP, 5 – Lenovo, 6 – MSI, 7 – Toshiba)\n",
    "- typename – (1 – 2w1, 2 – gaming, 3 – netbook, 4 – notebook, 5 – ultrabook, 6 – stacja robocza)\n",
    "- ram – (1 – 4GB, 2 – 8GB, 3 – 16GB, 4 – 32GB)"
   ]
  },
  {
   "cell_type": "markdown",
   "metadata": {},
   "source": [
    "<h2> Importing data <h2>"
   ]
  },
  {
   "cell_type": "code",
   "execution_count": 1,
   "metadata": {},
   "outputs": [
    {
     "data": {
      "text/html": [
       "<div>\n",
       "<style scoped>\n",
       "    .dataframe tbody tr th:only-of-type {\n",
       "        vertical-align: middle;\n",
       "    }\n",
       "\n",
       "    .dataframe tbody tr th {\n",
       "        vertical-align: top;\n",
       "    }\n",
       "\n",
       "    .dataframe thead th {\n",
       "        text-align: right;\n",
       "    }\n",
       "</style>\n",
       "<table border=\"1\" class=\"dataframe\">\n",
       "  <thead>\n",
       "    <tr style=\"text-align: right;\">\n",
       "      <th></th>\n",
       "      <th>inches</th>\n",
       "      <th>weight</th>\n",
       "      <th>price_euros</th>\n",
       "      <th>company</th>\n",
       "      <th>typename</th>\n",
       "      <th>ram</th>\n",
       "    </tr>\n",
       "  </thead>\n",
       "  <tbody>\n",
       "    <tr>\n",
       "      <th>count</th>\n",
       "      <td>1142.000000</td>\n",
       "      <td>1142.000000</td>\n",
       "      <td>1142.000000</td>\n",
       "      <td>1142.000000</td>\n",
       "      <td>1142.000000</td>\n",
       "      <td>1142.000000</td>\n",
       "    </tr>\n",
       "    <tr>\n",
       "      <th>mean</th>\n",
       "      <td>15.077321</td>\n",
       "      <td>2.069405</td>\n",
       "      <td>1128.914991</td>\n",
       "      <td>3.710158</td>\n",
       "      <td>3.539405</td>\n",
       "      <td>1.873905</td>\n",
       "    </tr>\n",
       "    <tr>\n",
       "      <th>std</th>\n",
       "      <td>1.385856</td>\n",
       "      <td>0.660224</td>\n",
       "      <td>664.678267</td>\n",
       "      <td>1.489391</td>\n",
       "      <td>1.255218</td>\n",
       "      <td>0.715328</td>\n",
       "    </tr>\n",
       "    <tr>\n",
       "      <th>min</th>\n",
       "      <td>10.100000</td>\n",
       "      <td>0.690000</td>\n",
       "      <td>209.000000</td>\n",
       "      <td>1.000000</td>\n",
       "      <td>1.000000</td>\n",
       "      <td>1.000000</td>\n",
       "    </tr>\n",
       "    <tr>\n",
       "      <th>25%</th>\n",
       "      <td>14.000000</td>\n",
       "      <td>1.600000</td>\n",
       "      <td>619.612503</td>\n",
       "      <td>3.000000</td>\n",
       "      <td>2.000000</td>\n",
       "      <td>1.000000</td>\n",
       "    </tr>\n",
       "    <tr>\n",
       "      <th>50%</th>\n",
       "      <td>15.600000</td>\n",
       "      <td>2.060000</td>\n",
       "      <td>986.500000</td>\n",
       "      <td>4.000000</td>\n",
       "      <td>4.000000</td>\n",
       "      <td>2.000000</td>\n",
       "    </tr>\n",
       "    <tr>\n",
       "      <th>75%</th>\n",
       "      <td>15.600000</td>\n",
       "      <td>2.330000</td>\n",
       "      <td>1485.827515</td>\n",
       "      <td>5.000000</td>\n",
       "      <td>4.000000</td>\n",
       "      <td>2.000000</td>\n",
       "    </tr>\n",
       "    <tr>\n",
       "      <th>max</th>\n",
       "      <td>18.400000</td>\n",
       "      <td>4.700000</td>\n",
       "      <td>4899.000000</td>\n",
       "      <td>7.000000</td>\n",
       "      <td>6.000000</td>\n",
       "      <td>4.000000</td>\n",
       "    </tr>\n",
       "  </tbody>\n",
       "</table>\n",
       "</div>"
      ],
      "text/plain": [
       "            inches       weight  price_euros      company     typename  \\\n",
       "count  1142.000000  1142.000000  1142.000000  1142.000000  1142.000000   \n",
       "mean     15.077321     2.069405  1128.914991     3.710158     3.539405   \n",
       "std       1.385856     0.660224   664.678267     1.489391     1.255218   \n",
       "min      10.100000     0.690000   209.000000     1.000000     1.000000   \n",
       "25%      14.000000     1.600000   619.612503     3.000000     2.000000   \n",
       "50%      15.600000     2.060000   986.500000     4.000000     4.000000   \n",
       "75%      15.600000     2.330000  1485.827515     5.000000     4.000000   \n",
       "max      18.400000     4.700000  4899.000000     7.000000     6.000000   \n",
       "\n",
       "               ram  \n",
       "count  1142.000000  \n",
       "mean      1.873905  \n",
       "std       0.715328  \n",
       "min       1.000000  \n",
       "25%       1.000000  \n",
       "50%       2.000000  \n",
       "75%       2.000000  \n",
       "max       4.000000  "
      ]
     },
     "execution_count": 1,
     "metadata": {},
     "output_type": "execute_result"
    }
   ],
   "source": [
    "import pandas as pd\n",
    "import numpy as np\n",
    "from scipy.stats import chi2\n",
    "from scipy.stats import f\n",
    "from scipy.stats import chi2_contingency \n",
    "from scipy.stats import ttest_ind \n",
    "from scipy.stats import levene \n",
    "from scipy.stats import variation\n",
    "from scipy.stats import t as student\n",
    "import matplotlib.pyplot as plt\n",
    "import seaborn as sns\n",
    "\n",
    "dataSet = pd.read_csv('laptops.csv', sep=\";\")\n",
    "dataSet.describe()"
   ]
  },
  {
   "cell_type": "code",
   "execution_count": 2,
   "metadata": {},
   "outputs": [
    {
     "data": {
      "text/html": [
       "<div>\n",
       "<style scoped>\n",
       "    .dataframe tbody tr th:only-of-type {\n",
       "        vertical-align: middle;\n",
       "    }\n",
       "\n",
       "    .dataframe tbody tr th {\n",
       "        vertical-align: top;\n",
       "    }\n",
       "\n",
       "    .dataframe thead th {\n",
       "        text-align: right;\n",
       "    }\n",
       "</style>\n",
       "<table border=\"1\" class=\"dataframe\">\n",
       "  <thead>\n",
       "    <tr style=\"text-align: right;\">\n",
       "      <th></th>\n",
       "      <th>inches</th>\n",
       "      <th>weight</th>\n",
       "      <th>price_euros</th>\n",
       "      <th>company</th>\n",
       "      <th>typename</th>\n",
       "      <th>ram</th>\n",
       "    </tr>\n",
       "  </thead>\n",
       "  <tbody>\n",
       "    <tr>\n",
       "      <th>0</th>\n",
       "      <td>15.6</td>\n",
       "      <td>1.86</td>\n",
       "      <td>575.000000</td>\n",
       "      <td>4</td>\n",
       "      <td>4</td>\n",
       "      <td>2</td>\n",
       "    </tr>\n",
       "    <tr>\n",
       "      <th>1</th>\n",
       "      <td>15.6</td>\n",
       "      <td>2.10</td>\n",
       "      <td>400.000000</td>\n",
       "      <td>1</td>\n",
       "      <td>4</td>\n",
       "      <td>1</td>\n",
       "    </tr>\n",
       "    <tr>\n",
       "      <th>2</th>\n",
       "      <td>14.0</td>\n",
       "      <td>1.30</td>\n",
       "      <td>1495.000000</td>\n",
       "      <td>2</td>\n",
       "      <td>5</td>\n",
       "      <td>3</td>\n",
       "    </tr>\n",
       "    <tr>\n",
       "      <th>3</th>\n",
       "      <td>14.0</td>\n",
       "      <td>1.60</td>\n",
       "      <td>770.000000</td>\n",
       "      <td>1</td>\n",
       "      <td>5</td>\n",
       "      <td>2</td>\n",
       "    </tr>\n",
       "    <tr>\n",
       "      <th>4</th>\n",
       "      <td>15.6</td>\n",
       "      <td>1.86</td>\n",
       "      <td>393.899994</td>\n",
       "      <td>4</td>\n",
       "      <td>4</td>\n",
       "      <td>1</td>\n",
       "    </tr>\n",
       "  </tbody>\n",
       "</table>\n",
       "</div>"
      ],
      "text/plain": [
       "   inches  weight  price_euros  company  typename  ram\n",
       "0    15.6    1.86   575.000000        4         4    2\n",
       "1    15.6    2.10   400.000000        1         4    1\n",
       "2    14.0    1.30  1495.000000        2         5    3\n",
       "3    14.0    1.60   770.000000        1         5    2\n",
       "4    15.6    1.86   393.899994        4         4    1"
      ]
     },
     "execution_count": 2,
     "metadata": {},
     "output_type": "execute_result"
    }
   ],
   "source": [
    "dataSet.head()"
   ]
  },
  {
   "cell_type": "code",
   "execution_count": 3,
   "metadata": {},
   "outputs": [
    {
     "data": {
      "text/plain": [
       "inches         float64\n",
       "weight         float64\n",
       "price_euros    float64\n",
       "company          int64\n",
       "typename         int64\n",
       "ram              int64\n",
       "dtype: object"
      ]
     },
     "execution_count": 3,
     "metadata": {},
     "output_type": "execute_result"
    }
   ],
   "source": [
    "dataSet.dtypes"
   ]
  },
  {
   "cell_type": "markdown",
   "metadata": {},
   "source": [
    "<h2>Verify following hypothiesis:<h2>"
   ]
  },
  {
   "cell_type": "markdown",
   "metadata": {},
   "source": [
    "<h3>a) The amount of RAM used in a laptop depends on its manufacturer.<h3>"
   ]
  },
  {
   "cell_type": "markdown",
   "metadata": {},
   "source": [
    "**Chi-square test** is used to determine whether there is a statistically significant difference between the expected frequencies and the observed frequencies in one or more categories of a contingency table.  \n",
    "\n",
    "Expected value for a single cell: $e = \\frac{row.sum*col.sum}{grand.total}$  \n",
    "Chi-square statistic: ${\\chi}^2 = \\sum \\frac{(o-e)^2}{e}$, where **o** - observed, **e** - expected"
   ]
  },
  {
   "cell_type": "markdown",
   "metadata": {},
   "source": [
    "Null hypothesis $H_0$: The amount of RAM used in laptop is **independent** of its manufacturer.  \n",
    "Alternative hypothesis $H_1$: The amount of RAM used in a laptop **depends** on its manufacturer.  "
   ]
  },
  {
   "cell_type": "code",
   "execution_count": 4,
   "metadata": {},
   "outputs": [],
   "source": [
    "memory = dataSet[\"ram\"]\n",
    "company = dataSet[\"company\"] "
   ]
  },
  {
   "cell_type": "code",
   "execution_count": 5,
   "metadata": {},
   "outputs": [
    {
     "data": {
      "text/html": [
       "<div>\n",
       "<style scoped>\n",
       "    .dataframe tbody tr th:only-of-type {\n",
       "        vertical-align: middle;\n",
       "    }\n",
       "\n",
       "    .dataframe tbody tr th {\n",
       "        vertical-align: top;\n",
       "    }\n",
       "\n",
       "    .dataframe thead th {\n",
       "        text-align: right;\n",
       "    }\n",
       "</style>\n",
       "<table border=\"1\" class=\"dataframe\">\n",
       "  <thead>\n",
       "    <tr style=\"text-align: right;\">\n",
       "      <th>ram</th>\n",
       "      <th>1</th>\n",
       "      <th>2</th>\n",
       "      <th>3</th>\n",
       "      <th>4</th>\n",
       "      <th>All</th>\n",
       "    </tr>\n",
       "    <tr>\n",
       "      <th>company</th>\n",
       "      <th></th>\n",
       "      <th></th>\n",
       "      <th></th>\n",
       "      <th></th>\n",
       "      <th></th>\n",
       "    </tr>\n",
       "  </thead>\n",
       "  <tbody>\n",
       "    <tr>\n",
       "      <th>1</th>\n",
       "      <td>57</td>\n",
       "      <td>33</td>\n",
       "      <td>4</td>\n",
       "      <td>0</td>\n",
       "      <td>94</td>\n",
       "    </tr>\n",
       "    <tr>\n",
       "      <th>2</th>\n",
       "      <td>45</td>\n",
       "      <td>61</td>\n",
       "      <td>35</td>\n",
       "      <td>3</td>\n",
       "      <td>144</td>\n",
       "    </tr>\n",
       "    <tr>\n",
       "      <th>3</th>\n",
       "      <td>63</td>\n",
       "      <td>161</td>\n",
       "      <td>54</td>\n",
       "      <td>7</td>\n",
       "      <td>285</td>\n",
       "    </tr>\n",
       "    <tr>\n",
       "      <th>4</th>\n",
       "      <td>90</td>\n",
       "      <td>142</td>\n",
       "      <td>13</td>\n",
       "      <td>0</td>\n",
       "      <td>245</td>\n",
       "    </tr>\n",
       "    <tr>\n",
       "      <th>5</th>\n",
       "      <td>89</td>\n",
       "      <td>141</td>\n",
       "      <td>39</td>\n",
       "      <td>3</td>\n",
       "      <td>272</td>\n",
       "    </tr>\n",
       "    <tr>\n",
       "      <th>6</th>\n",
       "      <td>0</td>\n",
       "      <td>22</td>\n",
       "      <td>31</td>\n",
       "      <td>1</td>\n",
       "      <td>54</td>\n",
       "    </tr>\n",
       "    <tr>\n",
       "      <th>7</th>\n",
       "      <td>14</td>\n",
       "      <td>25</td>\n",
       "      <td>8</td>\n",
       "      <td>1</td>\n",
       "      <td>48</td>\n",
       "    </tr>\n",
       "    <tr>\n",
       "      <th>All</th>\n",
       "      <td>358</td>\n",
       "      <td>585</td>\n",
       "      <td>184</td>\n",
       "      <td>15</td>\n",
       "      <td>1142</td>\n",
       "    </tr>\n",
       "  </tbody>\n",
       "</table>\n",
       "</div>"
      ],
      "text/plain": [
       "ram        1    2    3   4   All\n",
       "company                         \n",
       "1         57   33    4   0    94\n",
       "2         45   61   35   3   144\n",
       "3         63  161   54   7   285\n",
       "4         90  142   13   0   245\n",
       "5         89  141   39   3   272\n",
       "6          0   22   31   1    54\n",
       "7         14   25    8   1    48\n",
       "All      358  585  184  15  1142"
      ]
     },
     "execution_count": 5,
     "metadata": {},
     "output_type": "execute_result"
    }
   ],
   "source": [
    "TAB = pd.crosstab(company, memory, margins=True)\n",
    "type(TAB)\n",
    "TAB"
   ]
  },
  {
   "cell_type": "code",
   "execution_count": 6,
   "metadata": {},
   "outputs": [],
   "source": [
    "\n",
    "TOTAL = int(TAB.values[7:8, 4:5])\n",
    "\n",
    "expected = np.asarray([TAB.values[7:8,0:4][0]*int(TAB.values[i-1:i,4:5])/TOTAL for i in np.arange(1,8)])"
   ]
  },
  {
   "cell_type": "code",
   "execution_count": 7,
   "metadata": {},
   "outputs": [
    {
     "data": {
      "text/plain": [
       "array([[ 29.4676007 ,  48.15236427,  15.14535902,   1.23467601],\n",
       "       [ 45.14185639,  73.76532399,  23.20140105,   1.89141856],\n",
       "       [ 89.34325744, 145.9938704 ,  45.91943958,   3.74343257],\n",
       "       [ 76.80385289, 125.50350263,  39.47460595,   3.21803853],\n",
       "       [ 85.26795096, 139.33450088,  43.82486865,   3.57267951],\n",
       "       [ 16.92819615,  27.6619965 ,   8.70052539,   0.70928196],\n",
       "       [ 15.04728546,  24.58844133,   7.73380035,   0.63047285]])"
      ]
     },
     "execution_count": 7,
     "metadata": {},
     "output_type": "execute_result"
    }
   ],
   "source": [
    "expected"
   ]
  },
  {
   "cell_type": "code",
   "execution_count": 8,
   "metadata": {},
   "outputs": [
    {
     "data": {
      "text/plain": [
       "True"
      ]
     },
     "execution_count": 8,
     "metadata": {},
     "output_type": "execute_result"
    }
   ],
   "source": [
    "observed=np.asarray(TAB.values[0:7,0:4])\n",
    "type(observed)==type(expected)"
   ]
  },
  {
   "cell_type": "code",
   "execution_count": 9,
   "metadata": {},
   "outputs": [
    {
     "data": {
      "text/plain": [
       "164.23407357615477"
      ]
     },
     "execution_count": 9,
     "metadata": {},
     "output_type": "execute_result"
    }
   ],
   "source": [
    "#test statistic\n",
    "chi_sq = np.sum(np.square(np.subtract(observed, expected))/expected)\n",
    "chi_sq"
   ]
  },
  {
   "cell_type": "code",
   "execution_count": 10,
   "metadata": {},
   "outputs": [
    {
     "data": {
      "text/plain": [
       "18"
      ]
     },
     "execution_count": 10,
     "metadata": {},
     "output_type": "execute_result"
    }
   ],
   "source": [
    "alpha = 0.05\n",
    "degFreed = (observed.shape[0]-1)*(observed.shape[1]-1) #degrees of freedom\n",
    "pval = 1-chi2.cdf(chi_sq, degFreed) #right-tailed\n",
    "quantile = chi2.ppf(1-alpha, degFreed)\n",
    "\n",
    "degFreed"
   ]
  },
  {
   "cell_type": "code",
   "execution_count": 11,
   "metadata": {},
   "outputs": [
    {
     "data": {
      "text/plain": [
       "0.0"
      ]
     },
     "execution_count": 11,
     "metadata": {},
     "output_type": "execute_result"
    }
   ],
   "source": [
    "pval"
   ]
  },
  {
   "cell_type": "code",
   "execution_count": 12,
   "metadata": {},
   "outputs": [
    {
     "data": {
      "text/plain": [
       "False"
      ]
     },
     "execution_count": 12,
     "metadata": {},
     "output_type": "execute_result"
    }
   ],
   "source": [
    "pval > alpha"
   ]
  },
  {
   "cell_type": "code",
   "execution_count": 13,
   "metadata": {},
   "outputs": [
    {
     "data": {
      "text/plain": [
       "28.869299430392623"
      ]
     },
     "execution_count": 13,
     "metadata": {},
     "output_type": "execute_result"
    }
   ],
   "source": [
    "quantile"
   ]
  },
  {
   "cell_type": "code",
   "execution_count": 14,
   "metadata": {},
   "outputs": [
    {
     "name": "stdout",
     "output_type": "stream",
     "text": [
      "Reject the null hypothesis H0 in favor of the alternative hypothesis\n"
     ]
    }
   ],
   "source": [
    "if(pval<alpha):\n",
    "    print(\"Reject the null hypothesis H0 in favor of the alternative hypothesis\")\n",
    "else:\n",
    "    print(\"There is insufficient evidence\")"
   ]
  },
  {
   "cell_type": "code",
   "execution_count": 15,
   "metadata": {},
   "outputs": [
    {
     "data": {
      "text/plain": [
       "(164.23407357615477,\n",
       " 1.2327384246498041e-25,\n",
       " 18,\n",
       " array([[ 29.4676007 ,  48.15236427,  15.14535902,   1.23467601],\n",
       "        [ 45.14185639,  73.76532399,  23.20140105,   1.89141856],\n",
       "        [ 89.34325744, 145.9938704 ,  45.91943958,   3.74343257],\n",
       "        [ 76.80385289, 125.50350263,  39.47460595,   3.21803853],\n",
       "        [ 85.26795096, 139.33450088,  43.82486865,   3.57267951],\n",
       "        [ 16.92819615,  27.6619965 ,   8.70052539,   0.70928196],\n",
       "        [ 15.04728546,  24.58844133,   7.73380035,   0.63047285]]))"
      ]
     },
     "execution_count": 15,
     "metadata": {},
     "output_type": "execute_result"
    }
   ],
   "source": [
    "#built-in function\n",
    "chi2_contingency(observed)"
   ]
  },
  {
   "cell_type": "code",
   "execution_count": 16,
   "metadata": {},
   "outputs": [
    {
     "data": {
      "text/plain": [
       "<matplotlib.legend.Legend at 0x1f96c076e20>"
      ]
     },
     "execution_count": 16,
     "metadata": {},
     "output_type": "execute_result"
    },
    {
     "data": {
      "image/png": "[encoded data removed]",
      "text/plain": [
       "<Figure size 432x288 with 1 Axes>"
      ]
     },
     "metadata": {
      "needs_background": "light"
     },
     "output_type": "display_data"
    }
   ],
   "source": [
    "fig, ax = plt.subplots()\n",
    "ar = np.arange(0, 175, 0.1)\n",
    "ax.plot(ar, chi2.pdf(ar, degFreed), color='black', label='chi2')\n",
    "section = np.arange(quantile, 175, 0.1)\n",
    "ax.axvline(x=chi_sq, color='red', label='test statistic')\n",
    "ax.fill_between(section, chi2.pdf(section, degFreed), label='crit')\n",
    "ax.legend()"
   ]
  },
  {
   "cell_type": "code",
   "execution_count": 17,
   "metadata": {},
   "outputs": [
    {
     "data": {
      "image/png": "[encoded data removed]",
      "text/plain": [
       "<Figure size 432x288 with 2 Axes>"
      ]
     },
     "metadata": {},
     "output_type": "display_data"
    }
   ],
   "source": [
    "np.random.seed(0)\n",
    "sns.set_theme()\n",
    "ax = sns.heatmap(observed)\n",
    "plt.show()"
   ]
  },
  {
   "cell_type": "markdown",
   "metadata": {},
   "source": [
    "**The amount of RAM used in a laptop depends on its manufacturer**   \n",
    "test statistic value is not in range of confidence interval $(-\\infty, 25.98942308263721)$  \n",
    "p-value is less than fixed significance level $\\alpha = 0.1$."
   ]
  },
  {
   "cell_type": "markdown",
   "metadata": {},
   "source": [
    "<h3>b) RAM distribution in HP and Lenovo notebooks is the same.<h3>"
   ]
  },
  {
   "cell_type": "markdown",
   "metadata": {},
   "source": [
    "Same test as above - comaping distributions."
   ]
  },
  {
   "cell_type": "markdown",
   "metadata": {},
   "source": [
    "Null hypothesis $H_0$: Significantly different distributions.  \n",
    "Alternative hypothesis $H_1$: Same distributions. "
   ]
  },
  {
   "cell_type": "code",
   "execution_count": 18,
   "metadata": {},
   "outputs": [],
   "source": [
    "LenovoRAM = pd.DataFrame(dataSet.loc[dataSet[\"company\"]==5,\"ram\"])\n",
    "HPRAM = pd.DataFrame(dataSet.loc[dataSet[\"company\"]==4,\"ram\"])"
   ]
  },
  {
   "cell_type": "code",
   "execution_count": 19,
   "metadata": {},
   "outputs": [
    {
     "name": "stdout",
     "output_type": "stream",
     "text": [
      "272\n",
      "245\n"
     ]
    }
   ],
   "source": [
    "n = len(LenovoRAM)\n",
    "m = len(HPRAM)\n",
    "\n",
    "print(n)\n",
    "print(m)"
   ]
  },
  {
   "cell_type": "code",
   "execution_count": 20,
   "metadata": {},
   "outputs": [
    {
     "data": {
      "text/plain": [
       "ram\n",
       "2      141\n",
       "1       89\n",
       "3       39\n",
       "4        3\n",
       "dtype: int64"
      ]
     },
     "execution_count": 20,
     "metadata": {},
     "output_type": "execute_result"
    }
   ],
   "source": [
    "LenovoRAM.value_counts()"
   ]
  },
  {
   "cell_type": "code",
   "execution_count": 21,
   "metadata": {},
   "outputs": [
    {
     "data": {
      "text/plain": [
       "ram\n",
       "2      142\n",
       "1       90\n",
       "3       13\n",
       "dtype: int64"
      ]
     },
     "execution_count": 21,
     "metadata": {},
     "output_type": "execute_result"
    }
   ],
   "source": [
    "HPRAM.value_counts()"
   ]
  },
  {
   "cell_type": "code",
   "execution_count": 22,
   "metadata": {},
   "outputs": [],
   "source": [
    "counts1 = LenovoRAM.value_counts().values\n",
    "counts1 = pd.DataFrame(counts1)\n",
    "\n",
    "counts2 = HPRAM.value_counts().values\n",
    "counts2 = pd.DataFrame(counts2)\n",
    "\n",
    "counts1[\"hp\"] = counts2\n",
    "counts = counts1.rename(columns={0: \"lenovo\"})\n",
    "counts.at[3,\"hp\"]=0"
   ]
  },
  {
   "cell_type": "code",
   "execution_count": 26,
   "metadata": {},
   "outputs": [
    {
     "data": {
      "text/html": [
       "<div>\n",
       "<style scoped>\n",
       "    .dataframe tbody tr th:only-of-type {\n",
       "        vertical-align: middle;\n",
       "    }\n",
       "\n",
       "    .dataframe tbody tr th {\n",
       "        vertical-align: top;\n",
       "    }\n",
       "\n",
       "    .dataframe thead th {\n",
       "        text-align: right;\n",
       "    }\n",
       "</style>\n",
       "<table border=\"1\" class=\"dataframe\">\n",
       "  <thead>\n",
       "    <tr style=\"text-align: right;\">\n",
       "      <th></th>\n",
       "      <th>lenovo</th>\n",
       "      <th>hp</th>\n",
       "    </tr>\n",
       "  </thead>\n",
       "  <tbody>\n",
       "    <tr>\n",
       "      <th>0</th>\n",
       "      <td>141</td>\n",
       "      <td>142.0</td>\n",
       "    </tr>\n",
       "    <tr>\n",
       "      <th>1</th>\n",
       "      <td>89</td>\n",
       "      <td>90.0</td>\n",
       "    </tr>\n",
       "    <tr>\n",
       "      <th>2</th>\n",
       "      <td>39</td>\n",
       "      <td>13.0</td>\n",
       "    </tr>\n",
       "    <tr>\n",
       "      <th>3</th>\n",
       "      <td>3</td>\n",
       "      <td>0.0</td>\n",
       "    </tr>\n",
       "  </tbody>\n",
       "</table>\n",
       "</div>"
      ],
      "text/plain": [
       "   lenovo     hp\n",
       "0     141  142.0\n",
       "1      89   90.0\n",
       "2      39   13.0\n",
       "3       3    0.0"
      ]
     },
     "execution_count": 26,
     "metadata": {},
     "output_type": "execute_result"
    }
   ],
   "source": [
    "counts"
   ]
  },
  {
   "cell_type": "code",
   "execution_count": 27,
   "metadata": {},
   "outputs": [],
   "source": [
    "observed = counts"
   ]
  },
  {
   "cell_type": "code",
   "execution_count": 44,
   "metadata": {},
   "outputs": [],
   "source": [
    "test, pval, degFreed, expected = chi2_contingency(observed)\n",
    "quantile = chi2.ppf(1-alpha, degFreed)"
   ]
  },
  {
   "cell_type": "code",
   "execution_count": 29,
   "metadata": {},
   "outputs": [
    {
     "data": {
      "text/plain": [
       "7.814727903251179"
      ]
     },
     "execution_count": 29,
     "metadata": {},
     "output_type": "execute_result"
    }
   ],
   "source": [
    "7.814727903251179"
   ]
  },
  {
   "cell_type": "code",
   "execution_count": 30,
   "metadata": {},
   "outputs": [
    {
     "name": "stdout",
     "output_type": "stream",
     "text": [
      "Reject the null hypothesis H0 in favor of the alternative hypothesis\n"
     ]
    }
   ],
   "source": [
    "if(pval<alpha):\n",
    "    print(\"Reject the null hypothesis H0 in favor of the alternative hypothesis\")\n",
    "else:\n",
    "    print(\"There is insufficient evidence\")"
   ]
  },
  {
   "cell_type": "code",
   "execution_count": 31,
   "metadata": {},
   "outputs": [
    {
     "data": {
      "text/plain": [
       "<matplotlib.legend.Legend at 0x1f96c8d1f40>"
      ]
     },
     "execution_count": 31,
     "metadata": {},
     "output_type": "execute_result"
    },
    {
     "data": {
      "image/png": "[encoded data removed]",
      "text/plain": [
       "<Figure size 432x288 with 1 Axes>"
      ]
     },
     "metadata": {},
     "output_type": "display_data"
    }
   ],
   "source": [
    "fig, ax = plt.subplots()\n",
    "ar = np.arange(0, 30, 0.01)\n",
    "ax.plot(ar, chi2.pdf(ar, degFreed), color='black', label='chi2')\n",
    "section = np.arange(quantile, 30, 0.01)\n",
    "ax.axvline(x=test, color='red', label='test statistic')\n",
    "ax.fill_between(section, chi2.pdf(section, degFreed), label='crit')\n",
    "ax.legend()"
   ]
  },
  {
   "cell_type": "markdown",
   "metadata": {},
   "source": [
    "**Null hypothesis rejected** - **RAM distributions are consistent**  \n",
    "test statistic value is not in range of confidence interval $(-\\infty, 7.814727903251179)$  \n",
    "p-value is less than fixed significance level $\\alpha = 0.05$."
   ]
  },
  {
   "cell_type": "code",
   "execution_count": 32,
   "metadata": {},
   "outputs": [
    {
     "data": {
      "text/plain": [
       "7.814727903251179"
      ]
     },
     "execution_count": 32,
     "metadata": {},
     "output_type": "execute_result"
    }
   ],
   "source": [
    "quantile"
   ]
  },
  {
   "cell_type": "markdown",
   "metadata": {},
   "source": [
    "<h3>c) The average log prices of a Dell and HP notebook are equal.<h3>"
   ]
  },
  {
   "cell_type": "markdown",
   "metadata": {},
   "source": [
    "**Independent two-sample t-test** compares the means of two independent groups in order to determine whether there is statistical evidence that the associated population means are significantly different.  \n",
    "\n",
    "$t = \\frac{\\overline{X}-\\overline{Y}}{\\sqrt{\\frac{s_X^2}{n_X}+\\frac{s_Y^2}{n_Y}}}$,  \n",
    "where $\\overline{X}$, $\\overline{Y}$ - means, $s_X^2$, $s_Y^2$ - unbiased variance estimators, $n_X$, $n_Y$ - sample sizes\n",
    "\n",
    "Null hypothesis $H_0$: The average log prices of a Dell and HP notebook are equal.  \n",
    "Alternative hypothesis $H_1$: The average log prices of a Dell and HP notebook are **not** equal."
   ]
  },
  {
   "cell_type": "code",
   "execution_count": 33,
   "metadata": {},
   "outputs": [],
   "source": [
    "dellPrices = np.asarray(dataSet.loc[dataSet[\"company\"]==3,\"price_euros\"])\n",
    "hpPrices = np.asarray(dataSet.loc[dataSet[\"company\"]==4,\"price_euros\"])"
   ]
  },
  {
   "cell_type": "code",
   "execution_count": 34,
   "metadata": {},
   "outputs": [
    {
     "data": {
      "text/plain": [
       "True"
      ]
     },
     "execution_count": 34,
     "metadata": {},
     "output_type": "execute_result"
    }
   ],
   "source": [
    "logDellPrices = np.log(dellPrices)\n",
    "logHpPrices = np.log(hpPrices)\n",
    "\n",
    "n = len(dellPrices)\n",
    "m = len(hpPrices)\n",
    "\n",
    "variation(logDellPrices) != variation(logHpPrices)"
   ]
  },
  {
   "cell_type": "markdown",
   "metadata": {},
   "source": [
    "**Q–Q (quantile-quantile) plot** is a probability plot, which is a graphical method for comparing two probability distributions by plotting their quantiles against each other. Before running two-sample t-test we need to check if variables are normally distributed."
   ]
  },
  {
   "cell_type": "code",
   "execution_count": 35,
   "metadata": {},
   "outputs": [
    {
     "data": {
      "image/png": "[encoded data removed]",
      "text/plain": [
       "<Figure size 432x288 with 1 Axes>"
      ]
     },
     "metadata": {},
     "output_type": "display_data"
    }
   ],
   "source": [
    "import statsmodels.api as sm\n",
    "\n",
    "sm.qqplot(logDellPrices, line=\"s\")\n",
    "plt.show()"
   ]
  },
  {
   "cell_type": "code",
   "execution_count": 36,
   "metadata": {},
   "outputs": [
    {
     "data": {
      "image/png": "[encoded data removed]",
      "text/plain": [
       "<Figure size 432x288 with 1 Axes>"
      ]
     },
     "metadata": {},
     "output_type": "display_data"
    }
   ],
   "source": [
    "sm.qqplot(logHpPrices, line=\"s\")\n",
    "plt.show()"
   ]
  },
  {
   "cell_type": "markdown",
   "metadata": {},
   "source": [
    "The Q–Q plots follow the 45° line, so variables are normally distributed."
   ]
  },
  {
   "cell_type": "code",
   "execution_count": 37,
   "metadata": {},
   "outputs": [],
   "source": [
    "#unbiased variance estimators\n",
    "unbiased_est1 = 1/(n-1)*np.sum(np.square(logDellPrices-[np.mean(logDellPrices)]*n)) \n",
    "unbiased_est2 = 1/(m-1)*np.sum(np.square(logHpPrices-[np.mean(logHpPrices)]*m)) "
   ]
  },
  {
   "cell_type": "code",
   "execution_count": 38,
   "metadata": {},
   "outputs": [
    {
     "data": {
      "text/plain": [
       "2.185085461917259"
      ]
     },
     "execution_count": 38,
     "metadata": {},
     "output_type": "execute_result"
    }
   ],
   "source": [
    "a = unbiased_est1/n+unbiased_est2/m\n",
    "t = (np.mean(logDellPrices)-np.mean(logHpPrices))/np.sqrt(a) \n",
    "t #test statistic"
   ]
  },
  {
   "cell_type": "code",
   "execution_count": 39,
   "metadata": {},
   "outputs": [
    {
     "data": {
      "text/plain": [
       "0.029321386035646796"
      ]
     },
     "execution_count": 39,
     "metadata": {},
     "output_type": "execute_result"
    }
   ],
   "source": [
    "#two-tailed\n",
    "pval = student.sf(t, n+m-2)*2\n",
    "pval"
   ]
  },
  {
   "cell_type": "code",
   "execution_count": 40,
   "metadata": {},
   "outputs": [
    {
     "name": "stdout",
     "output_type": "stream",
     "text": [
      "confidence interval = (-1.6477446543282346, 1.647744654328234)\n"
     ]
    }
   ],
   "source": [
    "lowerBound = student.ppf(alpha, n+m-2)\n",
    "upperBound = student.ppf(1-alpha, n+m-2)\n",
    "print(f\"confidence interval = ({lowerBound}, {upperBound})\")"
   ]
  },
  {
   "cell_type": "code",
   "execution_count": 41,
   "metadata": {},
   "outputs": [
    {
     "name": "stdout",
     "output_type": "stream",
     "text": [
      "Reject the null hypothesis H0 in favor of the alternative hypothesis\n"
     ]
    }
   ],
   "source": [
    "if(pval<alpha):\n",
    "    print(\"Reject the null hypothesis H0 in favor of the alternative hypothesis\")\n",
    "else:\n",
    "    print(\"There is insufficient evidence\")"
   ]
  },
  {
   "cell_type": "code",
   "execution_count": 42,
   "metadata": {},
   "outputs": [
    {
     "data": {
      "text/plain": [
       "Ttest_indResult(statistic=2.1964057024205275, pvalue=0.02849691999099827)"
      ]
     },
     "execution_count": 42,
     "metadata": {},
     "output_type": "execute_result"
    }
   ],
   "source": [
    "#built-in function\n",
    "ttest_ind(logDellPrices, logHpPrices)"
   ]
  },
  {
   "cell_type": "code",
   "execution_count": 43,
   "metadata": {},
   "outputs": [
    {
     "data": {
      "text/plain": [
       "<matplotlib.legend.Legend at 0x1f96c808190>"
      ]
     },
     "execution_count": 43,
     "metadata": {},
     "output_type": "execute_result"
    },
    {
     "data": {
      "image/png": "[encoded data removed]",
      "text/plain": [
       "<Figure size 432x288 with 1 Axes>"
      ]
     },
     "metadata": {},
     "output_type": "display_data"
    }
   ],
   "source": [
    "fig, ax = plt.subplots()\n",
    "ar = np.arange(-5, 5, 0.01)\n",
    "ax.plot(ar, student.pdf(ar, n+m-2), color='black', label='ttest_ind')\n",
    "section1 = np.arange(upperBound, 5, 0.01)\n",
    "section2 = np.arange(-5, lowerBound, 0.01)\n",
    "ax.axvline(x=t, color='red', label='test statistic')\n",
    "ax.fill_between(section1, student.pdf(section1, n+m-2), label='crit', color='blue')\n",
    "ax.fill_between(section2, student.pdf(section2, n+m-2), color='blue')\n",
    "ax.legend()"
   ]
  },
  {
   "cell_type": "markdown",
   "metadata": {},
   "source": [
    "**Null hypothesis rejected** - **The average log prices of a Dell and HP notebook are not equal.**\n"
   ]
  }
 ],
 "metadata": {
  "kernelspec": {
   "display_name": "Python 3",
   "language": "python",
   "name": "python3"
  },
  "language_info": {
   "codemirror_mode": {
    "name": "ipython",
    "version": 3
   },
   "file_extension": ".py",
   "mimetype": "text/x-python",
   "name": "python",
   "nbconvert_exporter": "python",
   "pygments_lexer": "ipython3",
   "version": "3.8.5"
  }
 },
 "nbformat": 4,
 "nbformat_minor": 4
}
