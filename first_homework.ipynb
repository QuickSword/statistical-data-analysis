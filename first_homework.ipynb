{
 "cells": [
  {
   "cell_type": "markdown",
   "metadata": {},
   "source": [
    "<h1> First homework assignment<h1>\n",
    "    <h2>Statistical data analysis course - University of Warsaw<h2>"
   ]
  },
  {
   "cell_type": "markdown",
   "metadata": {},
   "source": [
    "Data set laptops.csv contains:\n",
    "- inches\n",
    "- weight\n",
    "- price_euros\n",
    "- company – (1 – Acer, 2 – Asus, 3 – Dell, 4 – HP, 5 – Lenovo, 6 – MSI, 7 – Toshiba)\n",
    "- typename – (1 – 2w1, 2 – gaming, 3 – netbook, 4 – notebook, 5 – ultrabook, 6 – stacja robocza)\n",
    "- ram – (1 – 4GB, 2 – 8GB, 3 – 16GB, 4 – 32GB)"
   ]
  },
  {
   "cell_type": "markdown",
   "metadata": {},
   "source": [
    "<h2> Importing data <h2>"
   ]
  },
  {
   "cell_type": "code",
   "execution_count": 1,
   "metadata": {},
   "outputs": [
    {
     "data": {
      "text/html": [
       "<div>\n",
       "<style scoped>\n",
       "    .dataframe tbody tr th:only-of-type {\n",
       "        vertical-align: middle;\n",
       "    }\n",
       "\n",
       "    .dataframe tbody tr th {\n",
       "        vertical-align: top;\n",
       "    }\n",
       "\n",
       "    .dataframe thead th {\n",
       "        text-align: right;\n",
       "    }\n",
       "</style>\n",
       "<table border=\"1\" class=\"dataframe\">\n",
       "  <thead>\n",
       "    <tr style=\"text-align: right;\">\n",
       "      <th></th>\n",
       "      <th>inches</th>\n",
       "      <th>weight</th>\n",
       "      <th>price_euros</th>\n",
       "      <th>company</th>\n",
       "      <th>typename</th>\n",
       "      <th>ram</th>\n",
       "    </tr>\n",
       "  </thead>\n",
       "  <tbody>\n",
       "    <tr>\n",
       "      <th>count</th>\n",
       "      <td>1142.000000</td>\n",
       "      <td>1142.000000</td>\n",
       "      <td>1142.000000</td>\n",
       "      <td>1142.000000</td>\n",
       "      <td>1142.000000</td>\n",
       "      <td>1142.000000</td>\n",
       "    </tr>\n",
       "    <tr>\n",
       "      <th>mean</th>\n",
       "      <td>15.077321</td>\n",
       "      <td>2.069405</td>\n",
       "      <td>1128.914991</td>\n",
       "      <td>3.710158</td>\n",
       "      <td>3.539405</td>\n",
       "      <td>1.873905</td>\n",
       "    </tr>\n",
       "    <tr>\n",
       "      <th>std</th>\n",
       "      <td>1.385856</td>\n",
       "      <td>0.660224</td>\n",
       "      <td>664.678267</td>\n",
       "      <td>1.489391</td>\n",
       "      <td>1.255218</td>\n",
       "      <td>0.715328</td>\n",
       "    </tr>\n",
       "    <tr>\n",
       "      <th>min</th>\n",
       "      <td>10.100000</td>\n",
       "      <td>0.690000</td>\n",
       "      <td>209.000000</td>\n",
       "      <td>1.000000</td>\n",
       "      <td>1.000000</td>\n",
       "      <td>1.000000</td>\n",
       "    </tr>\n",
       "    <tr>\n",
       "      <th>25%</th>\n",
       "      <td>14.000000</td>\n",
       "      <td>1.600000</td>\n",
       "      <td>619.612503</td>\n",
       "      <td>3.000000</td>\n",
       "      <td>2.000000</td>\n",
       "      <td>1.000000</td>\n",
       "    </tr>\n",
       "    <tr>\n",
       "      <th>50%</th>\n",
       "      <td>15.600000</td>\n",
       "      <td>2.060000</td>\n",
       "      <td>986.500000</td>\n",
       "      <td>4.000000</td>\n",
       "      <td>4.000000</td>\n",
       "      <td>2.000000</td>\n",
       "    </tr>\n",
       "    <tr>\n",
       "      <th>75%</th>\n",
       "      <td>15.600000</td>\n",
       "      <td>2.330000</td>\n",
       "      <td>1485.827515</td>\n",
       "      <td>5.000000</td>\n",
       "      <td>4.000000</td>\n",
       "      <td>2.000000</td>\n",
       "    </tr>\n",
       "    <tr>\n",
       "      <th>max</th>\n",
       "      <td>18.400000</td>\n",
       "      <td>4.700000</td>\n",
       "      <td>4899.000000</td>\n",
       "      <td>7.000000</td>\n",
       "      <td>6.000000</td>\n",
       "      <td>4.000000</td>\n",
       "    </tr>\n",
       "  </tbody>\n",
       "</table>\n",
       "</div>"
      ],
      "text/plain": [
       "            inches       weight  price_euros      company     typename  \\\n",
       "count  1142.000000  1142.000000  1142.000000  1142.000000  1142.000000   \n",
       "mean     15.077321     2.069405  1128.914991     3.710158     3.539405   \n",
       "std       1.385856     0.660224   664.678267     1.489391     1.255218   \n",
       "min      10.100000     0.690000   209.000000     1.000000     1.000000   \n",
       "25%      14.000000     1.600000   619.612503     3.000000     2.000000   \n",
       "50%      15.600000     2.060000   986.500000     4.000000     4.000000   \n",
       "75%      15.600000     2.330000  1485.827515     5.000000     4.000000   \n",
       "max      18.400000     4.700000  4899.000000     7.000000     6.000000   \n",
       "\n",
       "               ram  \n",
       "count  1142.000000  \n",
       "mean      1.873905  \n",
       "std       0.715328  \n",
       "min       1.000000  \n",
       "25%       1.000000  \n",
       "50%       2.000000  \n",
       "75%       2.000000  \n",
       "max       4.000000  "
      ]
     },
     "execution_count": 1,
     "metadata": {},
     "output_type": "execute_result"
    }
   ],
   "source": [
    "import pandas as pd\n",
    "import numpy as np\n",
    "from scipy.stats import chi2\n",
    "from scipy.stats import f\n",
    "from scipy.stats import chi2_contingency #for tests\n",
    "from scipy.stats import ttest_ind #for tests\n",
    "from scipy.stats import levene #for tests\n",
    "from scipy.stats import variation\n",
    "from scipy.stats import t as student\n",
    "\n",
    "dataSet = pd.read_csv('laptops.csv', sep=\";\")\n",
    "dataSet.describe()"
   ]
  },
  {
   "cell_type": "code",
   "execution_count": 2,
   "metadata": {},
   "outputs": [
    {
     "data": {
      "text/html": [
       "<div>\n",
       "<style scoped>\n",
       "    .dataframe tbody tr th:only-of-type {\n",
       "        vertical-align: middle;\n",
       "    }\n",
       "\n",
       "    .dataframe tbody tr th {\n",
       "        vertical-align: top;\n",
       "    }\n",
       "\n",
       "    .dataframe thead th {\n",
       "        text-align: right;\n",
       "    }\n",
       "</style>\n",
       "<table border=\"1\" class=\"dataframe\">\n",
       "  <thead>\n",
       "    <tr style=\"text-align: right;\">\n",
       "      <th></th>\n",
       "      <th>inches</th>\n",
       "      <th>weight</th>\n",
       "      <th>price_euros</th>\n",
       "      <th>company</th>\n",
       "      <th>typename</th>\n",
       "      <th>ram</th>\n",
       "    </tr>\n",
       "  </thead>\n",
       "  <tbody>\n",
       "    <tr>\n",
       "      <th>0</th>\n",
       "      <td>15.6</td>\n",
       "      <td>1.86</td>\n",
       "      <td>575.000000</td>\n",
       "      <td>4</td>\n",
       "      <td>4</td>\n",
       "      <td>2</td>\n",
       "    </tr>\n",
       "    <tr>\n",
       "      <th>1</th>\n",
       "      <td>15.6</td>\n",
       "      <td>2.10</td>\n",
       "      <td>400.000000</td>\n",
       "      <td>1</td>\n",
       "      <td>4</td>\n",
       "      <td>1</td>\n",
       "    </tr>\n",
       "    <tr>\n",
       "      <th>2</th>\n",
       "      <td>14.0</td>\n",
       "      <td>1.30</td>\n",
       "      <td>1495.000000</td>\n",
       "      <td>2</td>\n",
       "      <td>5</td>\n",
       "      <td>3</td>\n",
       "    </tr>\n",
       "    <tr>\n",
       "      <th>3</th>\n",
       "      <td>14.0</td>\n",
       "      <td>1.60</td>\n",
       "      <td>770.000000</td>\n",
       "      <td>1</td>\n",
       "      <td>5</td>\n",
       "      <td>2</td>\n",
       "    </tr>\n",
       "    <tr>\n",
       "      <th>4</th>\n",
       "      <td>15.6</td>\n",
       "      <td>1.86</td>\n",
       "      <td>393.899994</td>\n",
       "      <td>4</td>\n",
       "      <td>4</td>\n",
       "      <td>1</td>\n",
       "    </tr>\n",
       "  </tbody>\n",
       "</table>\n",
       "</div>"
      ],
      "text/plain": [
       "   inches  weight  price_euros  company  typename  ram\n",
       "0    15.6    1.86   575.000000        4         4    2\n",
       "1    15.6    2.10   400.000000        1         4    1\n",
       "2    14.0    1.30  1495.000000        2         5    3\n",
       "3    14.0    1.60   770.000000        1         5    2\n",
       "4    15.6    1.86   393.899994        4         4    1"
      ]
     },
     "execution_count": 2,
     "metadata": {},
     "output_type": "execute_result"
    }
   ],
   "source": [
    "dataSet.head()"
   ]
  },
  {
   "cell_type": "code",
   "execution_count": 3,
   "metadata": {},
   "outputs": [
    {
     "data": {
      "text/plain": [
       "inches         float64\n",
       "weight         float64\n",
       "price_euros    float64\n",
       "company          int64\n",
       "typename         int64\n",
       "ram              int64\n",
       "dtype: object"
      ]
     },
     "execution_count": 3,
     "metadata": {},
     "output_type": "execute_result"
    }
   ],
   "source": [
    "dataSet.dtypes"
   ]
  },
  {
   "cell_type": "markdown",
   "metadata": {},
   "source": [
    "<h2>Verify following hypothieses:<h2>"
   ]
  },
  {
   "cell_type": "markdown",
   "metadata": {},
   "source": [
    "<h3>a) The amount of RAM used in a laptop depends on its manufacturer.<h3>"
   ]
  },
  {
   "cell_type": "markdown",
   "metadata": {},
   "source": [
    "**Chi-square test** sprawdza zależność między zmiennymi. \\\n",
    "\n",
    "dla danej komórki wartość oczekiwana: $e = \\frac{row.sum*col.sum}{grand.total}$ \\\n",
    "Chi-square statistic: ${\\chi}^2 = \\sum \\frac{(o-e)^2}{e}$, gdzie o - obserwacja, e - wartosc oczekiwana"
   ]
  },
  {
   "cell_type": "markdown",
   "metadata": {},
   "source": [
    "Hipoteza zerowa $H_0$: Stosowana ilość RAM w laptopie jest  **niezależna** od jego producenta.\\\n",
    "Hipoteza alternatywna $H_1$: Stosowana ilość RAM w laptopie jest **zależna** od jego producenta.\\"
   ]
  },
  {
   "cell_type": "code",
   "execution_count": 4,
   "metadata": {},
   "outputs": [],
   "source": [
    "memory = dataSet[\"ram\"]\n",
    "company = dataSet[\"company\"] "
   ]
  },
  {
   "cell_type": "code",
   "execution_count": 5,
   "metadata": {},
   "outputs": [
    {
     "data": {
      "text/html": [
       "<div>\n",
       "<style scoped>\n",
       "    .dataframe tbody tr th:only-of-type {\n",
       "        vertical-align: middle;\n",
       "    }\n",
       "\n",
       "    .dataframe tbody tr th {\n",
       "        vertical-align: top;\n",
       "    }\n",
       "\n",
       "    .dataframe thead th {\n",
       "        text-align: right;\n",
       "    }\n",
       "</style>\n",
       "<table border=\"1\" class=\"dataframe\">\n",
       "  <thead>\n",
       "    <tr style=\"text-align: right;\">\n",
       "      <th>ram</th>\n",
       "      <th>1</th>\n",
       "      <th>2</th>\n",
       "      <th>3</th>\n",
       "      <th>4</th>\n",
       "      <th>All</th>\n",
       "    </tr>\n",
       "    <tr>\n",
       "      <th>company</th>\n",
       "      <th></th>\n",
       "      <th></th>\n",
       "      <th></th>\n",
       "      <th></th>\n",
       "      <th></th>\n",
       "    </tr>\n",
       "  </thead>\n",
       "  <tbody>\n",
       "    <tr>\n",
       "      <th>1</th>\n",
       "      <td>57</td>\n",
       "      <td>33</td>\n",
       "      <td>4</td>\n",
       "      <td>0</td>\n",
       "      <td>94</td>\n",
       "    </tr>\n",
       "    <tr>\n",
       "      <th>2</th>\n",
       "      <td>45</td>\n",
       "      <td>61</td>\n",
       "      <td>35</td>\n",
       "      <td>3</td>\n",
       "      <td>144</td>\n",
       "    </tr>\n",
       "    <tr>\n",
       "      <th>3</th>\n",
       "      <td>63</td>\n",
       "      <td>161</td>\n",
       "      <td>54</td>\n",
       "      <td>7</td>\n",
       "      <td>285</td>\n",
       "    </tr>\n",
       "    <tr>\n",
       "      <th>4</th>\n",
       "      <td>90</td>\n",
       "      <td>142</td>\n",
       "      <td>13</td>\n",
       "      <td>0</td>\n",
       "      <td>245</td>\n",
       "    </tr>\n",
       "    <tr>\n",
       "      <th>5</th>\n",
       "      <td>89</td>\n",
       "      <td>141</td>\n",
       "      <td>39</td>\n",
       "      <td>3</td>\n",
       "      <td>272</td>\n",
       "    </tr>\n",
       "    <tr>\n",
       "      <th>6</th>\n",
       "      <td>0</td>\n",
       "      <td>22</td>\n",
       "      <td>31</td>\n",
       "      <td>1</td>\n",
       "      <td>54</td>\n",
       "    </tr>\n",
       "    <tr>\n",
       "      <th>7</th>\n",
       "      <td>14</td>\n",
       "      <td>25</td>\n",
       "      <td>8</td>\n",
       "      <td>1</td>\n",
       "      <td>48</td>\n",
       "    </tr>\n",
       "    <tr>\n",
       "      <th>All</th>\n",
       "      <td>358</td>\n",
       "      <td>585</td>\n",
       "      <td>184</td>\n",
       "      <td>15</td>\n",
       "      <td>1142</td>\n",
       "    </tr>\n",
       "  </tbody>\n",
       "</table>\n",
       "</div>"
      ],
      "text/plain": [
       "ram        1    2    3   4   All\n",
       "company                         \n",
       "1         57   33    4   0    94\n",
       "2         45   61   35   3   144\n",
       "3         63  161   54   7   285\n",
       "4         90  142   13   0   245\n",
       "5         89  141   39   3   272\n",
       "6          0   22   31   1    54\n",
       "7         14   25    8   1    48\n",
       "All      358  585  184  15  1142"
      ]
     },
     "execution_count": 5,
     "metadata": {},
     "output_type": "execute_result"
    }
   ],
   "source": [
    "TAB = pd.crosstab(company, memory, margins=True)\n",
    "type(TAB)\n",
    "TAB"
   ]
  },
  {
   "cell_type": "code",
   "execution_count": 6,
   "metadata": {},
   "outputs": [],
   "source": [
    "\n",
    "TOTAL = int(TAB.values[7:8, 4:5])\n",
    "\n",
    "expected = np.asarray([TAB.values[7:8,0:4][0]*int(TAB.values[i-1:i,4:5])/TOTAL for i in np.arange(1,8)])"
   ]
  },
  {
   "cell_type": "code",
   "execution_count": 7,
   "metadata": {},
   "outputs": [
    {
     "data": {
      "text/plain": [
       "array([[ 29.4676007 ,  48.15236427,  15.14535902,   1.23467601],\n",
       "       [ 45.14185639,  73.76532399,  23.20140105,   1.89141856],\n",
       "       [ 89.34325744, 145.9938704 ,  45.91943958,   3.74343257],\n",
       "       [ 76.80385289, 125.50350263,  39.47460595,   3.21803853],\n",
       "       [ 85.26795096, 139.33450088,  43.82486865,   3.57267951],\n",
       "       [ 16.92819615,  27.6619965 ,   8.70052539,   0.70928196],\n",
       "       [ 15.04728546,  24.58844133,   7.73380035,   0.63047285]])"
      ]
     },
     "execution_count": 7,
     "metadata": {},
     "output_type": "execute_result"
    }
   ],
   "source": [
    "expected"
   ]
  },
  {
   "cell_type": "code",
   "execution_count": 8,
   "metadata": {},
   "outputs": [
    {
     "data": {
      "text/plain": [
       "True"
      ]
     },
     "execution_count": 8,
     "metadata": {},
     "output_type": "execute_result"
    }
   ],
   "source": [
    "observed=np.asarray(TAB.values[0:7,0:4])\n",
    "type(observed)==type(expected)"
   ]
  },
  {
   "cell_type": "code",
   "execution_count": 9,
   "metadata": {},
   "outputs": [
    {
     "data": {
      "text/plain": [
       "164.23407357615477"
      ]
     },
     "execution_count": 9,
     "metadata": {},
     "output_type": "execute_result"
    }
   ],
   "source": [
    "#test statistic\n",
    "chi_sq = np.sum(np.square(np.subtract(observed, expected))/expected)\n",
    "chi_sq"
   ]
  },
  {
   "cell_type": "code",
   "execution_count": 10,
   "metadata": {},
   "outputs": [
    {
     "data": {
      "text/plain": [
       "18"
      ]
     },
     "execution_count": 10,
     "metadata": {},
     "output_type": "execute_result"
    }
   ],
   "source": [
    "alpha = 0.01\n",
    "degFreed = (observed.shape[0]-1)*(observed.shape[1]-1) #degrees of freedom\n",
    "pval = 1-chi2.cdf(chi_sq, degFreed)\n",
    "quantile = chi2.ppf(1-alpha, degFreed)\n",
    "\n",
    "degFreed"
   ]
  },
  {
   "cell_type": "code",
   "execution_count": 11,
   "metadata": {},
   "outputs": [
    {
     "data": {
      "text/plain": [
       "0.0"
      ]
     },
     "execution_count": 11,
     "metadata": {},
     "output_type": "execute_result"
    }
   ],
   "source": [
    "pval"
   ]
  },
  {
   "cell_type": "code",
   "execution_count": 12,
   "metadata": {},
   "outputs": [
    {
     "data": {
      "text/plain": [
       "False"
      ]
     },
     "execution_count": 12,
     "metadata": {},
     "output_type": "execute_result"
    }
   ],
   "source": [
    "pval > alpha"
   ]
  },
  {
   "cell_type": "code",
   "execution_count": 13,
   "metadata": {},
   "outputs": [
    {
     "data": {
      "text/plain": [
       "34.805305734705065"
      ]
     },
     "execution_count": 13,
     "metadata": {},
     "output_type": "execute_result"
    }
   ],
   "source": [
    "quantile"
   ]
  },
  {
   "cell_type": "code",
   "execution_count": 14,
   "metadata": {},
   "outputs": [
    {
     "name": "stdout",
     "output_type": "stream",
     "text": [
      "Reject the null hypothesis H0 in favor of the alternative hypothesis\n"
     ]
    }
   ],
   "source": [
    "if(pval<alpha):\n",
    "    print(\"Reject the null hypothesis H0 in favor of the alternative hypothesis\")\n",
    "else:\n",
    "    print(\"There is insufficient evidence\")"
   ]
  },
  {
   "cell_type": "code",
   "execution_count": 15,
   "metadata": {},
   "outputs": [
    {
     "data": {
      "text/plain": [
       "(164.23407357615477,\n",
       " 1.2327384246498041e-25,\n",
       " 18,\n",
       " array([[ 29.4676007 ,  48.15236427,  15.14535902,   1.23467601],\n",
       "        [ 45.14185639,  73.76532399,  23.20140105,   1.89141856],\n",
       "        [ 89.34325744, 145.9938704 ,  45.91943958,   3.74343257],\n",
       "        [ 76.80385289, 125.50350263,  39.47460595,   3.21803853],\n",
       "        [ 85.26795096, 139.33450088,  43.82486865,   3.57267951],\n",
       "        [ 16.92819615,  27.6619965 ,   8.70052539,   0.70928196],\n",
       "        [ 15.04728546,  24.58844133,   7.73380035,   0.63047285]]))"
      ]
     },
     "execution_count": 15,
     "metadata": {},
     "output_type": "execute_result"
    }
   ],
   "source": [
    "#built-in function\n",
    "chi2_contingency(observed)"
   ]
  },
  {
   "cell_type": "markdown",
   "metadata": {},
   "source": [
    "**Ilość pamięci RAM zależy od producenta** (wartość statystyki testowej wpada do obszaru krytycznego $(24.805306, \\infty)$ oraz p-value jest mniejsze niż nasz ustalony poziom istotności $\\alpha = 1%$)."
   ]
  },
  {
   "cell_type": "markdown",
   "metadata": {},
   "source": [
    "<h3>b) RAM distribution in HP and Lenovo notebooks is the same.<h3>"
   ]
  },
  {
   "cell_type": "markdown",
   "metadata": {},
   "source": [
    "**Test of Two Variances** sprawdza hipotezę, że próby pochodzą z populacji o jednakowych wariancjach. \\\n",
    "\n",
    "$F=\\frac{S_X^2}{S_Y^2}$, gdzie $S_X^2$ i $S_Y^2$ to wariancje próbkowe."
   ]
  },
  {
   "cell_type": "markdown",
   "metadata": {},
   "source": [
    "Hipoteza zerowa $H_0$: Równe wariancje. \\\n",
    "Hipoteza alternatywna $H_1$: Różne wariancje. "
   ]
  },
  {
   "cell_type": "code",
   "execution_count": 16,
   "metadata": {},
   "outputs": [],
   "source": [
    "LenovoRAM = np.asarray(dataSet.loc[dataSet[\"company\"]==5,\"ram\"])\n",
    "HPRAM = np.asarray(dataSet.loc[dataSet[\"company\"]==4,\"ram\"])"
   ]
  },
  {
   "cell_type": "code",
   "execution_count": 17,
   "metadata": {},
   "outputs": [
    {
     "data": {
      "text/plain": [
       "1.5183141081933365"
      ]
     },
     "execution_count": 17,
     "metadata": {},
     "output_type": "execute_result"
    }
   ],
   "source": [
    "n = len(LenovoRAM)\n",
    "m = len(HPRAM)\n",
    "\n",
    "#unbiased variance estimators\n",
    "unbiased_est1 = 1/(n-1)*np.sum(np.square(LenovoRAM-[np.mean(LenovoRAM)]*n)) \n",
    "unbiased_est2 = 1/(m-1)*np.sum(np.square(HPRAM-[np.mean(HPRAM)]*m)) \n",
    "\n",
    "#fisher's test\n",
    "F = unbiased_est1/unbiased_est2 # with Snedecor's F distribution\n",
    "\n",
    "alpha = 0.1\n",
    "pval = 1-f.cdf(F, n-1, m-1) #right-tailed\n",
    "quantile = f.ppf(1-alpha, n-1, m-1)\n",
    "\n",
    "F"
   ]
  },
  {
   "cell_type": "code",
   "execution_count": 18,
   "metadata": {},
   "outputs": [
    {
     "data": {
      "text/plain": [
       "0.00045564886080551315"
      ]
     },
     "execution_count": 18,
     "metadata": {},
     "output_type": "execute_result"
    }
   ],
   "source": [
    "pval"
   ]
  },
  {
   "cell_type": "code",
   "execution_count": 19,
   "metadata": {},
   "outputs": [
    {
     "data": {
      "text/plain": [
       "1.1743156776428112"
      ]
     },
     "execution_count": 19,
     "metadata": {},
     "output_type": "execute_result"
    }
   ],
   "source": [
    "quantile"
   ]
  },
  {
   "cell_type": "code",
   "execution_count": 20,
   "metadata": {},
   "outputs": [
    {
     "data": {
      "text/plain": [
       "False"
      ]
     },
     "execution_count": 20,
     "metadata": {},
     "output_type": "execute_result"
    }
   ],
   "source": [
    "pval > alpha"
   ]
  },
  {
   "cell_type": "code",
   "execution_count": 21,
   "metadata": {},
   "outputs": [
    {
     "name": "stdout",
     "output_type": "stream",
     "text": [
      "Reject the null hypothesis H0 in favor of the alternative hypothesis\n"
     ]
    }
   ],
   "source": [
    "if(pval<alpha):\n",
    "    print(\"Reject the null hypothesis H0 in favor of the alternative hypothesis\")\n",
    "else:\n",
    "    print(\"There is insufficient evidence\")"
   ]
  },
  {
   "cell_type": "code",
   "execution_count": 23,
   "metadata": {},
   "outputs": [
    {
     "data": {
      "text/plain": [
       "LeveneResult(statistic=2.591295038277229, pvalue=0.10806519718662788)"
      ]
     },
     "execution_count": 23,
     "metadata": {},
     "output_type": "execute_result"
    }
   ],
   "source": [
    "#built-in function\n",
    "levene(LenovoRAM, HPRAM)"
   ]
  },
  {
   "cell_type": "markdown",
   "metadata": {},
   "source": [
    "**Odrzucamy hipotezę zerową** ponieważ wartość testu wpada do obszaru krytycznego $(1.3393083873860143, \\infty)$ / p-value jest mniejsze niż ustalony poziom istotności $\\alpha = 0.1$. **Rozkład stosowanych pamięci RAM w notebookach HP i Lenovo nie jest taki sam.**"
   ]
  },
  {
   "cell_type": "markdown",
   "metadata": {},
   "source": [
    "<h3>c) The average log prices of a Dell and HP notebook are equal.<h3>"
   ]
  },
  {
   "cell_type": "markdown",
   "metadata": {},
   "source": [
    "**Independent two-sample t-test** wykorzystujemy, gdy chcemy porównać dwie grupy pod względem jakiejś zmiennej ilościowej.\\\n",
    "\n",
    "$t = \\frac{\\overline{X}-\\overline{Y}}{\\sqrt{\\frac{s_X^2}{n_X}+\\frac{s_Y^2}{n_Y}}}$, gdzie $\\overline{X}$, $\\overline{Y}$ - średnie arytmetyczne, $s_X^2$, $s_Y^2$ - nieobciążone estymatory wariancji, $n_X$, $n_Y$ - liczby obserwacji\n",
    "\n",
    "Hipoteza zerowa $H_0$: Średnia zlogarytmowana cena notebooka Dell jest taka sama jak średnia zlogarytmowana cena notebooka HP.\\\n",
    "Hipoteza alternatywna $H_1$: Średnie zlogarytmowane ceny notebooków różnią się.\\"
   ]
  },
  {
   "cell_type": "code",
   "execution_count": 24,
   "metadata": {},
   "outputs": [],
   "source": [
    "dellPrices = np.asarray(dataSet.loc[dataSet[\"company\"]==3,\"price_euros\"])\n",
    "hpPrices = np.asarray(dataSet.loc[dataSet[\"company\"]==4,\"price_euros\"])"
   ]
  },
  {
   "cell_type": "code",
   "execution_count": 25,
   "metadata": {},
   "outputs": [
    {
     "data": {
      "text/plain": [
       "True"
      ]
     },
     "execution_count": 25,
     "metadata": {},
     "output_type": "execute_result"
    }
   ],
   "source": [
    "logDellPrices = np.log(dellPrices)\n",
    "logHpPrices = np.log(hpPrices)\n",
    "\n",
    "n = len(dellPrices)\n",
    "m = len(hpPrices)\n",
    "\n",
    "variation(logDellPrices) != variation(logHpPrices)"
   ]
  },
  {
   "cell_type": "code",
   "execution_count": 26,
   "metadata": {},
   "outputs": [],
   "source": [
    "#unbiased variance estimators\n",
    "unbiased_est1 = 1/(n-1)*np.sum(np.square(logDellPrices-[np.mean(logDellPrices)]*n)) \n",
    "unbiased_est2 = 1/(m-1)*np.sum(np.square(logHpPrices-[np.mean(logHpPrices)]*m)) "
   ]
  },
  {
   "cell_type": "code",
   "execution_count": 27,
   "metadata": {},
   "outputs": [
    {
     "data": {
      "text/plain": [
       "2.185085461917259"
      ]
     },
     "execution_count": 27,
     "metadata": {},
     "output_type": "execute_result"
    }
   ],
   "source": [
    "a = unbiased_est1/n+unbiased_est2/m\n",
    "t = (np.mean(logDellPrices)-np.mean(logHpPrices))/np.sqrt(a) \n",
    "t #test statistic"
   ]
  },
  {
   "cell_type": "code",
   "execution_count": 28,
   "metadata": {},
   "outputs": [
    {
     "data": {
      "text/plain": [
       "0.029321386035646796"
      ]
     },
     "execution_count": 28,
     "metadata": {},
     "output_type": "execute_result"
    }
   ],
   "source": [
    "#two-tailed\n",
    "pval = student.sf(t, n+m-2)*2\n",
    "pval"
   ]
  },
  {
   "cell_type": "code",
   "execution_count": 29,
   "metadata": {},
   "outputs": [
    {
     "name": "stdout",
     "output_type": "stream",
     "text": [
      "confidence interval = (-1.2831569953306763, 1.2831569953306765)\n"
     ]
    }
   ],
   "source": [
    "lowerBound = student.ppf(alpha, n+m-2)\n",
    "upperBound = student.ppf(1-alpha, n+m-2)\n",
    "print(f\"confidence interval = ({lowerBound}, {upperBound})\")"
   ]
  },
  {
   "cell_type": "code",
   "execution_count": 30,
   "metadata": {},
   "outputs": [
    {
     "name": "stdout",
     "output_type": "stream",
     "text": [
      "Reject the null hypothesis H0 in favor of the alternative hypothesis\n"
     ]
    }
   ],
   "source": [
    "if(pval<alpha):\n",
    "    print(\"Reject the null hypothesis H0 in favor of the alternative hypothesis\")\n",
    "else:\n",
    "    print(\"There is insufficient evidence\")"
   ]
  },
  {
   "cell_type": "code",
   "execution_count": 31,
   "metadata": {},
   "outputs": [
    {
     "data": {
      "text/plain": [
       "Ttest_indResult(statistic=2.1964057024205275, pvalue=0.02849691999099827)"
      ]
     },
     "execution_count": 31,
     "metadata": {},
     "output_type": "execute_result"
    }
   ],
   "source": [
    "#built-in function\n",
    "ttest_ind(logDellPrices, logHpPrices)"
   ]
  },
  {
   "cell_type": "markdown",
   "metadata": {},
   "source": [
    "**Odrzucamy hipotezę zerową** - wartość testu wpada do obszaru krytycznego/ p-value mniejsze niż ustalony poziom istotności - na rzecz hipotezy alternatywnej.\\ **Średnie zlogarytmowane ceny notebooków różnią się.**"
   ]
  }
 ],
 "metadata": {
  "kernelspec": {
   "display_name": "Python 3",
   "language": "python",
   "name": "python3"
  },
  "language_info": {
   "codemirror_mode": {
    "name": "ipython",
    "version": 3
   },
   "file_extension": ".py",
   "mimetype": "text/x-python",
   "name": "python",
   "nbconvert_exporter": "python",
   "pygments_lexer": "ipython3",
   "version": "3.8.5"
  }
 },
 "nbformat": 4,
 "nbformat_minor": 4
}
